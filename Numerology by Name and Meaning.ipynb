{
  "nbformat": 4,
  "nbformat_minor": 0,
  "metadata": {
    "colab": {
      "provenance": [],
      "authorship_tag": "ABX9TyOPEFIiVg9MEQuvDbLFOTxM",
      "include_colab_link": true
    },
    "kernelspec": {
      "name": "python3",
      "display_name": "Python 3"
    },
    "language_info": {
      "name": "python"
    }
  },
  "cells": [
    {
      "cell_type": "markdown",
      "metadata": {
        "id": "view-in-github",
        "colab_type": "text"
      },
      "source": [
        "<a href=\"https://colab.research.google.com/github/fugulin/fugulin/blob/master/Numerology%20by%20Name%20and%20Meaning.ipynb\" target=\"_parent\"><img src=\"https://colab.research.google.com/assets/colab-badge.svg\" alt=\"Open In Colab\"/></a>"
      ]
    },
    {
      "cell_type": "code",
      "execution_count": 32,
      "metadata": {
        "colab": {
          "base_uri": "https://localhost:8080/"
        },
        "id": "FWMc2ExNUvXT",
        "outputId": "e8ea2f4b-301d-4b1e-f7c0-0d25047db712"
      },
      "outputs": [
        {
          "output_type": "stream",
          "name": "stdout",
          "text": [
            "Enter your name: Marcoa Antono de Almeida Fugulin\n",
            "Your numerology number is 4\n",
            "The number 4 represents stability, hard work, and practicality.\n"
          ]
        }
      ],
      "source": [
        "def numerology(name):\n",
        "    alphabet = {'A': 1, 'B': 2, 'C': 3, 'D': 4, 'E': 5, 'F': 6, 'G': 7, 'H': 8, 'I': 9,\n",
        "                'J': 1, 'K': 2, 'L': 3, 'M': 4, 'N': 5, 'O': 6, 'P': 7, 'Q': 8, 'R': 9,\n",
        "                'S': 1, 'T': 2, 'U': 3, 'V': 4, 'W': 5, 'X': 6, 'Y': 7, 'Z': 8}\n",
        "    name = name.upper()\n",
        "    sum = 0\n",
        "    for letter in name:\n",
        "        if letter in alphabet:\n",
        "            sum += alphabet[letter]\n",
        "    while sum > 9:\n",
        "        sum = sum // 10 + sum % 10\n",
        "    return sum\n",
        "\n",
        "name = input(\"Enter your name: \")\n",
        "num = numerology(name)\n",
        "print(\"Your numerology number is\", num)\n",
        "\n",
        "if num == 1:\n",
        "    print(\"The number 1 represents leadership, individuality, and creativity.\")\n",
        "elif num == 2:\n",
        "    print(\"The number 2 represents harmony, balance, and diplomacy.\")\n",
        "elif num == 3:\n",
        "    print(\"The number 3 represents creativity, self-expression, and optimism.\")\n",
        "elif num == 4:\n",
        "    print(\"The number 4 represents stability, hard work, and practicality.\")\n",
        "elif num == 5:\n",
        "    print(\"The number 5 represents freedom, adventure, and versatility.\")\n",
        "elif num == 6:\n",
        "    print(\"The number 6 represents love, nurturing, and domesticity.\")\n",
        "elif num == 7:\n",
        "    print(\"The number 7 represents spirituality, introspection, and analysis.\")\n",
        "elif num == 8:\n",
        "    print(\"The number 8 represents power, success, and materialism.\")\n",
        "elif num == 9:\n",
        "    print(\"The number 9 represents compassion, generosity, and humanitarianism.\")\n",
        "else:\n",
        "    print(\"Invalid name entered. Please try again.\")\n"
      ]
    }
  ]
}